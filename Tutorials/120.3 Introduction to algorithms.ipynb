{
 "cells": [
  {
   "metadata": {},
   "cell_type": "markdown",
   "source": [
    "Tutorial 120.3 / Algorithms"
   ],
   "id": "b2718a093567d191"
  },
  {
   "metadata": {},
   "cell_type": "markdown",
   "source": [
    "Question 1: State characteristics of a good algorithm.\n",
    "\n"
   ],
   "id": "5f96c872d7fd6d96"
  },
  {
   "metadata": {},
   "cell_type": "markdown",
   "source": [
    "ANSWER:\n",
    "- Correct\n",
    "- Clear\n",
    "- Practical\n",
    "- Efficient\n",
    "- Quick (Relative terms)\n"
   ],
   "id": "854736dc9e839909"
  },
  {
   "metadata": {},
   "cell_type": "markdown",
   "source": [
    "Question 2: What are the advantages of using pseudocode before implementing an algorithm in a programming language?"
   ],
   "id": "478bd7dd5d63633b"
  },
  {
   "metadata": {},
   "cell_type": "markdown",
   "source": "ANSWER: <br> Allows deskchecking, Allows for fixing buys in formatting and structure",
   "id": "5009af9377eced08"
  },
  {
   "metadata": {},
   "cell_type": "markdown",
   "source": [
    "Question 3: Explain how a flowchart could help identify logic errors in an algorithm before testing it in code."
   ],
   "id": "2babd403de8b2749"
  },
  {
   "metadata": {},
   "cell_type": "markdown",
   "source": [
    "ANSWER: <br> Flowcharts help identifying logic errors as they show a step-by-step system where each process interacts with\n",
    "\n"
   ],
   "id": "5873cdc060923978"
  },
  {
   "metadata": {},
   "cell_type": "markdown",
   "source": [
    "Question 4: How does the divide and conquer approach simplify the problem-solving process in software design? Provide a real-world example."
   ],
   "id": "38eee19846f341d3"
  },
  {
   "metadata": {},
   "cell_type": "markdown",
   "source": "ANSWER: <br> Divide and conquer allows components of programs/software to be developed independently, leading to higher efficiency and it makes it easier to combat bugs",
   "id": "5e6917b32f263ced"
  },
  {
   "metadata": {},
   "cell_type": "markdown",
   "source": [
    "Question 5: What are the key differences between desk checking and using a trace table, and when might you use each?"
   ],
   "id": "9a1fe34635e167ff"
  },
  {
   "metadata": {},
   "cell_type": "markdown",
   "source": [
    "ANSWER:"
   ],
   "id": "28cccf6ffaf52ad9"
  },
  {
   "metadata": {},
   "cell_type": "markdown",
   "source": [
    "Question 6: A Fibonacci series is a sequence of numbers where each is the sum of the two preceding numbers.\n",
    "\n",
    "(0, 1, 1, 2, 3, 5, 8, 13, 21, 34 and so on)\n",
    "Write an algorithm in which a user enters a number stored in the variable num. The algorithm prints all the numbers in the Fibonacci series less than or equal to the variable num.\n",
    "\n",
    "Prepare your algorithm in pseudocode and test it with a trace table."
   ],
   "id": "c1739375f558cda"
  },
  {
   "metadata": {},
   "cell_type": "markdown",
   "source": [
    "ANSWER:"
   ],
   "id": "dc5a8d30b18bf7f2"
  },
  {
   "metadata": {},
   "cell_type": "markdown",
   "source": [
    "Question 7: Modify and test the algorithm you wrote in Question 6, in which a user is asked to enter the number of terms of the Fibonacci series to be printed."
   ],
   "id": "35470114dee3cc63"
  },
  {
   "metadata": {},
   "cell_type": "markdown",
   "source": [
    "ANSWER:"
   ],
   "id": "72fe7f0ac4e0a2c7"
  },
  {
   "metadata": {},
   "cell_type": "markdown",
   "source": [
    "Question 8: Deduce the purpose of the Python program given by using a trace table."
   ],
   "id": "ba34d1af13e03a4e"
  },
  {
   "metadata": {},
   "cell_type": "code",
   "outputs": [],
   "execution_count": null,
   "source": [
    "num1 = int(input(\"Enter the first number: \"))\n",
    "num2 = int(input(\"Enter the second number: \"))\n",
    "\n",
    "if num1 > num2:\n",
    "    x = num1\n",
    "else:\n",
    "    x = num2\n",
    "\n",
    "while True:  # Infinite loop until the break is hit\n",
    "    if x % num1 == 0 and x % num2 == 0:\n",
    "        print(x)\n",
    "        break\n",
    "    x = x + 1"
   ],
   "id": "c517417614e0766a"
  },
  {
   "metadata": {},
   "cell_type": "markdown",
   "source": [
    "ANSWER:"
   ],
   "id": "74288d7718dd3ebe"
  },
  {
   "metadata": {},
   "cell_type": "markdown",
   "source": [
    "Question 9: Deduce the purpose of the Python program given by using a trace table."
   ],
   "id": "7a5ae42f667e5bc9"
  },
  {
   "metadata": {},
   "cell_type": "markdown",
   "source": [
    "BEGIN\n",
    "\n",
    "    total = 0\n",
    "\n",
    "    FOR i = 1 TO 5\n",
    "\n",
    "        IF i MOD 2 = 0 THEN\n",
    "\n",
    "        total = total + i * 2\n",
    "\n",
    "     ELSE\n",
    "\n",
    "        total = total + i\n",
    "\n",
    "        ENDIF\n",
    "\n",
    "    NEXT i\n",
    "\n",
    "    OUTPUT total\n",
    "\n",
    "END"
   ],
   "id": "2f9a91798522de4e"
  },
  {
   "metadata": {},
   "cell_type": "markdown",
   "source": [
    "ANSWER:"
   ],
   "id": "f1a72d33b81e3a95"
  },
  {
   "metadata": {},
   "cell_type": "markdown",
   "source": [
    "Question 10: Trace the algorithm below to identify why it does not work with the array alpha_part."
   ],
   "id": "ec9097b8c9c9f67d"
  },
  {
   "metadata": {},
   "cell_type": "markdown",
   "source": [
    "BEGIN\n",
    "\n",
    "alpha_part = [F, I, G, L, J, K, I, H]\n",
    "\n",
    "    item = “J”\n",
    "    lower_bound = 0\n",
    "    upper_bound = LENGTH(alpha_part) - 1\n",
    "    found = False\n",
    "\n",
    "    WHILE found = False AND lower_bound <= upper_bound\n",
    "        midpoint = (lower_bound + upper_bound) DIV 2\n",
    "\n",
    "        IF alpha_part[midpoint] = item THEN\n",
    "            found = True\n",
    "        ELSEIF\n",
    "            alpha_part[midpoint] < item THEN\n",
    "            lower_bound = midpoint + 1\n",
    "        ELSE\n",
    "            upper_bound = midpoint - 1\n",
    "        ENDIF\n",
    "    ENDWHILE\n",
    "\n",
    "    IF (found = True) THEN\n",
    "        PRINT (“Item found at ”, midpoint)\n",
    "    ELSE\n",
    "        PRINT (“Item not present”)\n",
    "    ENDIF\n",
    "END"
   ],
   "id": "fb85bea158b9c4a3"
  },
  {
   "metadata": {},
   "cell_type": "markdown",
   "source": [
    "ANSWER:"
   ],
   "id": "3446b5962a9f52b0"
  }
 ],
 "metadata": {
  "kernelspec": {
   "display_name": "Python 3",
   "language": "python",
   "name": "python3"
  },
  "language_info": {
   "codemirror_mode": {
    "name": "ipython",
    "version": 2
   },
   "file_extension": ".py",
   "mimetype": "text/x-python",
   "name": "python",
   "nbconvert_exporter": "python",
   "pygments_lexer": "ipython2",
   "version": "2.7.6"
  }
 },
 "nbformat": 4,
 "nbformat_minor": 5
}
